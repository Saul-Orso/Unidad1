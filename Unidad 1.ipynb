{
 "cells": [
  {
   "cell_type": "markdown",
   "id": "0d768b1c",
   "metadata": {},
   "source": [
    "# Unidad 1\n",
    "## Conceptos de generales de Phyton"
   ]
  },
  {
   "cell_type": "code",
   "execution_count": 31,
   "id": "83132c6c",
   "metadata": {},
   "outputs": [],
   "source": [
    "import math"
   ]
  },
  {
   "cell_type": "code",
   "execution_count": null,
   "id": "98089c8f",
   "metadata": {},
   "outputs": [],
   "source": []
  },
  {
   "cell_type": "code",
   "execution_count": 1,
   "id": "8d6e2e7b",
   "metadata": {},
   "outputs": [],
   "source": [
    "i=15\n",
    "x= \"hola mundo\""
   ]
  },
  {
   "cell_type": "code",
   "execution_count": 2,
   "id": "a7d069e7",
   "metadata": {},
   "outputs": [
    {
     "name": "stdout",
     "output_type": "stream",
     "text": [
      "15\n"
     ]
    }
   ],
   "source": [
    "print(i)"
   ]
  },
  {
   "cell_type": "code",
   "execution_count": 3,
   "id": "b8534e94",
   "metadata": {},
   "outputs": [
    {
     "name": "stdout",
     "output_type": "stream",
     "text": [
      "hola mundo\n"
     ]
    }
   ],
   "source": [
    "print(x)"
   ]
  },
  {
   "cell_type": "code",
   "execution_count": 5,
   "id": "73a30fa1",
   "metadata": {},
   "outputs": [
    {
     "name": "stdout",
     "output_type": "stream",
     "text": [
      "x= hola mundo i= 15\n"
     ]
    }
   ],
   "source": [
    "print(\"x=\", x, \"i=\", i)"
   ]
  },
  {
   "cell_type": "code",
   "execution_count": 6,
   "id": "3d5384c8",
   "metadata": {},
   "outputs": [
    {
     "name": "stdout",
     "output_type": "stream",
     "text": [
      "x=/hola mundo/i=/15\n"
     ]
    }
   ],
   "source": [
    "#sep cambia el separador auntomatico que tiene phyton despues de usar una string dentro de una impresion  \n",
    "print(\"x=\", x, \"i=\", i, sep=\"/\")"
   ]
  },
  {
   "cell_type": "code",
   "execution_count": null,
   "id": "4e0e7e80",
   "metadata": {},
   "outputs": [],
   "source": [
    "#para separar nombres de variables usar guines bajos\n",
    "mivariable= 5"
   ]
  },
  {
   "cell_type": "code",
   "execution_count": 1,
   "id": "123c30e7",
   "metadata": {},
   "outputs": [
    {
     "name": "stdout",
     "output_type": "stream",
     "text": [
      "hola \n",
      " mundo\n"
     ]
    }
   ],
   "source": [
    "print(\"hola \\n mundo\")"
   ]
  },
  {
   "cell_type": "code",
   "execution_count": 4,
   "id": "001136ff",
   "metadata": {},
   "outputs": [
    {
     "name": "stdout",
     "output_type": "stream",
     "text": [
      "hola 'mundo'\n"
     ]
    }
   ],
   "source": [
    "print(\"hola \\'mundo\\'\")"
   ]
  },
  {
   "cell_type": "code",
   "execution_count": 8,
   "id": "332c712b",
   "metadata": {},
   "outputs": [
    {
     "name": "stdout",
     "output_type": "stream",
     "text": [
      "****************************************************************************************************\n"
     ]
    }
   ],
   "source": [
    "print(\"**\"*50)"
   ]
  },
  {
   "cell_type": "code",
   "execution_count": null,
   "id": "99b729f2",
   "metadata": {},
   "outputs": [],
   "source": []
  },
  {
   "cell_type": "markdown",
   "id": "d81962b0",
   "metadata": {},
   "source": [
    "## Operadores en phyton "
   ]
  },
  {
   "cell_type": "code",
   "execution_count": 9,
   "id": "eab43a80",
   "metadata": {},
   "outputs": [
    {
     "name": "stdout",
     "output_type": "stream",
     "text": [
      "150\n"
     ]
    }
   ],
   "source": [
    "print(3*50)"
   ]
  },
  {
   "cell_type": "code",
   "execution_count": 10,
   "id": "bf013618",
   "metadata": {},
   "outputs": [
    {
     "name": "stdout",
     "output_type": "stream",
     "text": [
      "3.3333333333333335\n"
     ]
    }
   ],
   "source": [
    "print(10/3)"
   ]
  },
  {
   "cell_type": "code",
   "execution_count": 11,
   "id": "d66b6cb6",
   "metadata": {},
   "outputs": [
    {
     "name": "stdout",
     "output_type": "stream",
     "text": [
      "3\n"
     ]
    }
   ],
   "source": [
    "# division con numeros enteros \n",
    "print( 10 // 3)"
   ]
  },
  {
   "cell_type": "code",
   "execution_count": 12,
   "id": "7abadd05",
   "metadata": {},
   "outputs": [
    {
     "name": "stdout",
     "output_type": "stream",
     "text": [
      "1\n"
     ]
    }
   ],
   "source": [
    "print(9 % 2)\n",
    "# residuo de operaciones"
   ]
  },
  {
   "cell_type": "code",
   "execution_count": 14,
   "id": "f1e6fb46",
   "metadata": {},
   "outputs": [
    {
     "name": "stdout",
     "output_type": "stream",
     "text": [
      "25\n"
     ]
    }
   ],
   "source": [
    "print((2+3)*5)\n",
    "#para cambiar el orden de las operaciones se usan parentesis"
   ]
  },
  {
   "cell_type": "code",
   "execution_count": 15,
   "id": "423df053",
   "metadata": {},
   "outputs": [
    {
     "name": "stdout",
     "output_type": "stream",
     "text": [
      "15.708\n"
     ]
    }
   ],
   "source": [
    "x=5\n",
    "y=3.1416\n",
    "print(x*y)\n",
    "#existe el key sensitive (sensible a mayusculas y minusculas)"
   ]
  },
  {
   "cell_type": "code",
   "execution_count": 17,
   "id": "4ec384b6",
   "metadata": {},
   "outputs": [
    {
     "data": {
      "text/plain": [
       "float"
      ]
     },
     "execution_count": 17,
     "metadata": {},
     "output_type": "execute_result"
    }
   ],
   "source": [
    "type(y)"
   ]
  },
  {
   "cell_type": "markdown",
   "id": "bf72777b",
   "metadata": {},
   "source": [
    "### convertir tipos de datos"
   ]
  },
  {
   "cell_type": "code",
   "execution_count": 18,
   "id": "8fdbd036",
   "metadata": {},
   "outputs": [
    {
     "name": "stdout",
     "output_type": "stream",
     "text": [
      "3\n"
     ]
    }
   ],
   "source": [
    "y = int (3.6)\n",
    "print(y)"
   ]
  },
  {
   "cell_type": "code",
   "execution_count": 19,
   "id": "05f2b87c",
   "metadata": {},
   "outputs": [],
   "source": [
    "x=\"300\"\n",
    "z=int(x)\n",
    "\n"
   ]
  },
  {
   "cell_type": "code",
   "execution_count": 20,
   "id": "4e418efd",
   "metadata": {},
   "outputs": [
    {
     "name": "stdout",
     "output_type": "stream",
     "text": [
      "300\n"
     ]
    }
   ],
   "source": [
    "print(z)"
   ]
  },
  {
   "cell_type": "markdown",
   "id": "3410ff08",
   "metadata": {},
   "source": [
    "### entrada de datos"
   ]
  },
  {
   "cell_type": "code",
   "execution_count": 21,
   "id": "12a97a9a",
   "metadata": {},
   "outputs": [
    {
     "name": "stdout",
     "output_type": "stream",
     "text": [
      "escribe tu nombre saul\n",
      "tu nombre es saul\n"
     ]
    }
   ],
   "source": [
    "variable=input(\"escribe tu nombre \")\n",
    "print(\"tu nombre es\",variable)"
   ]
  },
  {
   "cell_type": "code",
   "execution_count": 22,
   "id": "c6491250",
   "metadata": {},
   "outputs": [
    {
     "name": "stdout",
     "output_type": "stream",
     "text": [
      "proporcioname un numero para multiplicarlo por 55\n",
      "25\n"
     ]
    }
   ],
   "source": [
    "x=int (input(\"proporcioname un numero para multiplicarlo por 5\"))\n",
    "print(x*5)\n",
    "\n",
    "#hay que especificar que la variable x es un entero si no lo interpretara por string"
   ]
  },
  {
   "cell_type": "code",
   "execution_count": 32,
   "id": "69d95733",
   "metadata": {},
   "outputs": [
    {
     "name": "stdout",
     "output_type": "stream",
     "text": [
      "proporsiona el valor del cateto adyacente5\n",
      "proporsiona el valor del cateto opuesto5\n",
      "7.0710678118654755\n"
     ]
    }
   ],
   "source": [
    "ca=float(input(\"proporsiona el valor del cateto adyacente\"))\n",
    "co=float(input(\"proporsiona el valor del cateto opuesto\"))\n",
    "\n",
    "hipo= ((ca**2)+(co**2)) \n",
    "hipotenusa= math.sqrt(hipo)\n",
    "\n",
    "print(hipotenusa)\n",
    "    \n",
    "\n"
   ]
  },
  {
   "cell_type": "code",
   "execution_count": null,
   "id": "f13a8fe8",
   "metadata": {},
   "outputs": [],
   "source": []
  },
  {
   "cell_type": "code",
   "execution_count": null,
   "id": "fc96d095",
   "metadata": {},
   "outputs": [],
   "source": []
  },
  {
   "cell_type": "code",
   "execution_count": null,
   "id": "6b4ea70f",
   "metadata": {},
   "outputs": [],
   "source": []
  },
  {
   "cell_type": "code",
   "execution_count": null,
   "id": "c24ffe82",
   "metadata": {},
   "outputs": [],
   "source": []
  },
  {
   "cell_type": "code",
   "execution_count": null,
   "id": "964ebe3d",
   "metadata": {},
   "outputs": [],
   "source": []
  },
  {
   "cell_type": "code",
   "execution_count": null,
   "id": "66f2adae",
   "metadata": {},
   "outputs": [],
   "source": []
  },
  {
   "cell_type": "code",
   "execution_count": null,
   "id": "d9af5d8d",
   "metadata": {},
   "outputs": [],
   "source": []
  },
  {
   "cell_type": "code",
   "execution_count": null,
   "id": "40e853b6",
   "metadata": {},
   "outputs": [],
   "source": []
  },
  {
   "cell_type": "code",
   "execution_count": null,
   "id": "24c873d4",
   "metadata": {},
   "outputs": [],
   "source": []
  },
  {
   "cell_type": "code",
   "execution_count": null,
   "id": "41f138fa",
   "metadata": {},
   "outputs": [],
   "source": []
  }
 ],
 "metadata": {
  "kernelspec": {
   "display_name": "Python 3 (ipykernel)",
   "language": "python",
   "name": "python3"
  },
  "language_info": {
   "codemirror_mode": {
    "name": "ipython",
    "version": 3
   },
   "file_extension": ".py",
   "mimetype": "text/x-python",
   "name": "python",
   "nbconvert_exporter": "python",
   "pygments_lexer": "ipython3",
   "version": "3.9.12"
  }
 },
 "nbformat": 4,
 "nbformat_minor": 5
}
